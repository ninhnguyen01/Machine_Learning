{
 "cells": [
  {
   "cell_type": "markdown",
   "id": "c8396f52",
   "metadata": {},
   "source": [
    "# Feature Engineering for Machine Learning in Python by Ninh Nguyen"
   ]
  },
  {
   "cell_type": "code",
   "execution_count": 1,
   "id": "c2be5715",
   "metadata": {},
   "outputs": [],
   "source": [
    "# Import package\n",
    "import pandas as pd\n",
    "import matplotlib.pyplot as plt\n",
    "import seaborn as sns\n"
   ]
  },
  {
   "cell_type": "code",
   "execution_count": 2,
   "id": "df0d0dfb",
   "metadata": {},
   "outputs": [
    {
     "data": {
      "text/html": [
       "<div>\n",
       "<style scoped>\n",
       "    .dataframe tbody tr th:only-of-type {\n",
       "        vertical-align: middle;\n",
       "    }\n",
       "\n",
       "    .dataframe tbody tr th {\n",
       "        vertical-align: top;\n",
       "    }\n",
       "\n",
       "    .dataframe thead th {\n",
       "        text-align: right;\n",
       "    }\n",
       "</style>\n",
       "<table border=\"1\" class=\"dataframe\">\n",
       "  <thead>\n",
       "    <tr style=\"text-align: right;\">\n",
       "      <th></th>\n",
       "      <th>SurveyDate</th>\n",
       "      <th>FormalEducation</th>\n",
       "      <th>ConvertedSalary</th>\n",
       "      <th>Hobby</th>\n",
       "      <th>Country</th>\n",
       "      <th>StackOverflowJobsRecommend</th>\n",
       "      <th>VersionControl</th>\n",
       "      <th>Age</th>\n",
       "      <th>Years Experience</th>\n",
       "      <th>Gender</th>\n",
       "      <th>RawSalary</th>\n",
       "    </tr>\n",
       "  </thead>\n",
       "  <tbody>\n",
       "    <tr>\n",
       "      <th>0</th>\n",
       "      <td>2/28/18 20:20</td>\n",
       "      <td>Bachelor's degree (BA. BS. B.Eng.. etc.)</td>\n",
       "      <td>NaN</td>\n",
       "      <td>Yes</td>\n",
       "      <td>South Africa</td>\n",
       "      <td>NaN</td>\n",
       "      <td>Git</td>\n",
       "      <td>21</td>\n",
       "      <td>13</td>\n",
       "      <td>Male</td>\n",
       "      <td>NaN</td>\n",
       "    </tr>\n",
       "    <tr>\n",
       "      <th>1</th>\n",
       "      <td>6/28/18 13:26</td>\n",
       "      <td>Bachelor's degree (BA. BS. B.Eng.. etc.)</td>\n",
       "      <td>70841.0</td>\n",
       "      <td>Yes</td>\n",
       "      <td>Sweeden</td>\n",
       "      <td>7.0</td>\n",
       "      <td>Git;Subversion</td>\n",
       "      <td>38</td>\n",
       "      <td>9</td>\n",
       "      <td>Male</td>\n",
       "      <td>70,841.00</td>\n",
       "    </tr>\n",
       "    <tr>\n",
       "      <th>2</th>\n",
       "      <td>6/6/18 3:37</td>\n",
       "      <td>Bachelor's degree (BA. BS. B.Eng.. etc.)</td>\n",
       "      <td>NaN</td>\n",
       "      <td>No</td>\n",
       "      <td>Sweeden</td>\n",
       "      <td>8.0</td>\n",
       "      <td>Git</td>\n",
       "      <td>45</td>\n",
       "      <td>11</td>\n",
       "      <td>NaN</td>\n",
       "      <td>NaN</td>\n",
       "    </tr>\n",
       "    <tr>\n",
       "      <th>3</th>\n",
       "      <td>5/9/18 1:06</td>\n",
       "      <td>Some college/university study without earning ...</td>\n",
       "      <td>21426.0</td>\n",
       "      <td>Yes</td>\n",
       "      <td>Sweeden</td>\n",
       "      <td>NaN</td>\n",
       "      <td>Zip file back-ups</td>\n",
       "      <td>46</td>\n",
       "      <td>12</td>\n",
       "      <td>Male</td>\n",
       "      <td>21,426.00</td>\n",
       "    </tr>\n",
       "    <tr>\n",
       "      <th>4</th>\n",
       "      <td>4/12/18 22:41</td>\n",
       "      <td>Bachelor's degree (BA. BS. B.Eng.. etc.)</td>\n",
       "      <td>41671.0</td>\n",
       "      <td>Yes</td>\n",
       "      <td>UK</td>\n",
       "      <td>8.0</td>\n",
       "      <td>Git</td>\n",
       "      <td>39</td>\n",
       "      <td>7</td>\n",
       "      <td>Male</td>\n",
       "      <td>£41,671.00</td>\n",
       "    </tr>\n",
       "    <tr>\n",
       "      <th>...</th>\n",
       "      <td>...</td>\n",
       "      <td>...</td>\n",
       "      <td>...</td>\n",
       "      <td>...</td>\n",
       "      <td>...</td>\n",
       "      <td>...</td>\n",
       "      <td>...</td>\n",
       "      <td>...</td>\n",
       "      <td>...</td>\n",
       "      <td>...</td>\n",
       "      <td>...</td>\n",
       "    </tr>\n",
       "    <tr>\n",
       "      <th>994</th>\n",
       "      <td>10/19/18 13:50</td>\n",
       "      <td>Some college/university study without earning ...</td>\n",
       "      <td>NaN</td>\n",
       "      <td>Yes</td>\n",
       "      <td>France</td>\n",
       "      <td>NaN</td>\n",
       "      <td>Subversion</td>\n",
       "      <td>45</td>\n",
       "      <td>10</td>\n",
       "      <td>Male</td>\n",
       "      <td>NaN</td>\n",
       "    </tr>\n",
       "    <tr>\n",
       "      <th>995</th>\n",
       "      <td>4/14/18 15:31</td>\n",
       "      <td>Bachelor's degree (BA. BS. B.Eng.. etc.)</td>\n",
       "      <td>58746.0</td>\n",
       "      <td>No</td>\n",
       "      <td>Spain</td>\n",
       "      <td>8.0</td>\n",
       "      <td>Git</td>\n",
       "      <td>27</td>\n",
       "      <td>16</td>\n",
       "      <td>Male</td>\n",
       "      <td>58,746.00</td>\n",
       "    </tr>\n",
       "    <tr>\n",
       "      <th>996</th>\n",
       "      <td>3/21/18 6:34</td>\n",
       "      <td>Bachelor's degree (BA. BS. B.Eng.. etc.)</td>\n",
       "      <td>55000.0</td>\n",
       "      <td>Yes</td>\n",
       "      <td>USA</td>\n",
       "      <td>NaN</td>\n",
       "      <td>Git</td>\n",
       "      <td>54</td>\n",
       "      <td>16</td>\n",
       "      <td>Male</td>\n",
       "      <td>$55,000.00</td>\n",
       "    </tr>\n",
       "    <tr>\n",
       "      <th>997</th>\n",
       "      <td>2/5/18 20:01</td>\n",
       "      <td>Bachelor's degree (BA. BS. B.Eng.. etc.)</td>\n",
       "      <td>NaN</td>\n",
       "      <td>Yes</td>\n",
       "      <td>Sweeden</td>\n",
       "      <td>NaN</td>\n",
       "      <td>Git;Subversion</td>\n",
       "      <td>23</td>\n",
       "      <td>9</td>\n",
       "      <td>NaN</td>\n",
       "      <td>NaN</td>\n",
       "    </tr>\n",
       "    <tr>\n",
       "      <th>998</th>\n",
       "      <td>2/11/18 21:23</td>\n",
       "      <td>Bachelor's degree (BA. BS. B.Eng.. etc.)</td>\n",
       "      <td>1000000.0</td>\n",
       "      <td>No</td>\n",
       "      <td>Russia</td>\n",
       "      <td>NaN</td>\n",
       "      <td>Git</td>\n",
       "      <td>18</td>\n",
       "      <td>7</td>\n",
       "      <td>NaN</td>\n",
       "      <td>1,000,000.00</td>\n",
       "    </tr>\n",
       "  </tbody>\n",
       "</table>\n",
       "<p>999 rows × 11 columns</p>\n",
       "</div>"
      ],
      "text/plain": [
       "         SurveyDate                                    FormalEducation  \\\n",
       "0     2/28/18 20:20           Bachelor's degree (BA. BS. B.Eng.. etc.)   \n",
       "1     6/28/18 13:26           Bachelor's degree (BA. BS. B.Eng.. etc.)   \n",
       "2       6/6/18 3:37           Bachelor's degree (BA. BS. B.Eng.. etc.)   \n",
       "3       5/9/18 1:06  Some college/university study without earning ...   \n",
       "4     4/12/18 22:41           Bachelor's degree (BA. BS. B.Eng.. etc.)   \n",
       "..              ...                                                ...   \n",
       "994  10/19/18 13:50  Some college/university study without earning ...   \n",
       "995   4/14/18 15:31           Bachelor's degree (BA. BS. B.Eng.. etc.)   \n",
       "996    3/21/18 6:34           Bachelor's degree (BA. BS. B.Eng.. etc.)   \n",
       "997    2/5/18 20:01           Bachelor's degree (BA. BS. B.Eng.. etc.)   \n",
       "998   2/11/18 21:23           Bachelor's degree (BA. BS. B.Eng.. etc.)   \n",
       "\n",
       "     ConvertedSalary Hobby       Country  StackOverflowJobsRecommend  \\\n",
       "0                NaN   Yes  South Africa                         NaN   \n",
       "1            70841.0   Yes       Sweeden                         7.0   \n",
       "2                NaN    No       Sweeden                         8.0   \n",
       "3            21426.0   Yes       Sweeden                         NaN   \n",
       "4            41671.0   Yes            UK                         8.0   \n",
       "..               ...   ...           ...                         ...   \n",
       "994              NaN   Yes        France                         NaN   \n",
       "995          58746.0    No         Spain                         8.0   \n",
       "996          55000.0   Yes           USA                         NaN   \n",
       "997              NaN   Yes       Sweeden                         NaN   \n",
       "998        1000000.0    No        Russia                         NaN   \n",
       "\n",
       "        VersionControl  Age  Years Experience Gender     RawSalary  \n",
       "0                  Git   21                13   Male           NaN  \n",
       "1       Git;Subversion   38                 9   Male     70,841.00  \n",
       "2                  Git   45                11    NaN           NaN  \n",
       "3    Zip file back-ups   46                12   Male     21,426.00  \n",
       "4                  Git   39                 7   Male    £41,671.00  \n",
       "..                 ...  ...               ...    ...           ...  \n",
       "994         Subversion   45                10   Male           NaN  \n",
       "995                Git   27                16   Male     58,746.00  \n",
       "996                Git   54                16   Male    $55,000.00  \n",
       "997     Git;Subversion   23                 9    NaN           NaN  \n",
       "998                Git   18                 7    NaN  1,000,000.00  \n",
       "\n",
       "[999 rows x 11 columns]"
      ]
     },
     "execution_count": 2,
     "metadata": {},
     "output_type": "execute_result"
    }
   ],
   "source": [
    "# Import survey \n",
    "so_survey_df = pd.read_csv('Combined_DS_v10.csv')\n",
    "so_survey_df\n"
   ]
  },
  {
   "cell_type": "code",
   "execution_count": 3,
   "id": "88954592",
   "metadata": {},
   "outputs": [
    {
     "data": {
      "text/html": [
       "<div>\n",
       "<style scoped>\n",
       "    .dataframe tbody tr th:only-of-type {\n",
       "        vertical-align: middle;\n",
       "    }\n",
       "\n",
       "    .dataframe tbody tr th {\n",
       "        vertical-align: top;\n",
       "    }\n",
       "\n",
       "    .dataframe thead th {\n",
       "        text-align: right;\n",
       "    }\n",
       "</style>\n",
       "<table border=\"1\" class=\"dataframe\">\n",
       "  <thead>\n",
       "    <tr style=\"text-align: right;\">\n",
       "      <th></th>\n",
       "      <th>SurveyDate</th>\n",
       "      <th>FormalEducation</th>\n",
       "      <th>ConvertedSalary</th>\n",
       "      <th>Hobby</th>\n",
       "      <th>Country</th>\n",
       "      <th>StackOverflowJobsRecommend</th>\n",
       "      <th>VersionControl</th>\n",
       "      <th>Age</th>\n",
       "      <th>Years Experience</th>\n",
       "      <th>Gender</th>\n",
       "      <th>RawSalary</th>\n",
       "    </tr>\n",
       "  </thead>\n",
       "  <tbody>\n",
       "    <tr>\n",
       "      <th>0</th>\n",
       "      <td>2/28/18 20:20</td>\n",
       "      <td>Bachelor's degree (BA. BS. B.Eng.. etc.)</td>\n",
       "      <td>NaN</td>\n",
       "      <td>Yes</td>\n",
       "      <td>South Africa</td>\n",
       "      <td>NaN</td>\n",
       "      <td>Git</td>\n",
       "      <td>21</td>\n",
       "      <td>13</td>\n",
       "      <td>Male</td>\n",
       "      <td>NaN</td>\n",
       "    </tr>\n",
       "    <tr>\n",
       "      <th>1</th>\n",
       "      <td>6/28/18 13:26</td>\n",
       "      <td>Bachelor's degree (BA. BS. B.Eng.. etc.)</td>\n",
       "      <td>70841.0</td>\n",
       "      <td>Yes</td>\n",
       "      <td>Sweeden</td>\n",
       "      <td>7.0</td>\n",
       "      <td>Git;Subversion</td>\n",
       "      <td>38</td>\n",
       "      <td>9</td>\n",
       "      <td>Male</td>\n",
       "      <td>70,841.00</td>\n",
       "    </tr>\n",
       "    <tr>\n",
       "      <th>2</th>\n",
       "      <td>6/6/18 3:37</td>\n",
       "      <td>Bachelor's degree (BA. BS. B.Eng.. etc.)</td>\n",
       "      <td>NaN</td>\n",
       "      <td>No</td>\n",
       "      <td>Sweeden</td>\n",
       "      <td>8.0</td>\n",
       "      <td>Git</td>\n",
       "      <td>45</td>\n",
       "      <td>11</td>\n",
       "      <td>NaN</td>\n",
       "      <td>NaN</td>\n",
       "    </tr>\n",
       "    <tr>\n",
       "      <th>3</th>\n",
       "      <td>5/9/18 1:06</td>\n",
       "      <td>Some college/university study without earning ...</td>\n",
       "      <td>21426.0</td>\n",
       "      <td>Yes</td>\n",
       "      <td>Sweeden</td>\n",
       "      <td>NaN</td>\n",
       "      <td>Zip file back-ups</td>\n",
       "      <td>46</td>\n",
       "      <td>12</td>\n",
       "      <td>Male</td>\n",
       "      <td>21,426.00</td>\n",
       "    </tr>\n",
       "    <tr>\n",
       "      <th>4</th>\n",
       "      <td>4/12/18 22:41</td>\n",
       "      <td>Bachelor's degree (BA. BS. B.Eng.. etc.)</td>\n",
       "      <td>41671.0</td>\n",
       "      <td>Yes</td>\n",
       "      <td>UK</td>\n",
       "      <td>8.0</td>\n",
       "      <td>Git</td>\n",
       "      <td>39</td>\n",
       "      <td>7</td>\n",
       "      <td>Male</td>\n",
       "      <td>£41,671.00</td>\n",
       "    </tr>\n",
       "  </tbody>\n",
       "</table>\n",
       "</div>"
      ],
      "text/plain": [
       "      SurveyDate                                    FormalEducation  \\\n",
       "0  2/28/18 20:20           Bachelor's degree (BA. BS. B.Eng.. etc.)   \n",
       "1  6/28/18 13:26           Bachelor's degree (BA. BS. B.Eng.. etc.)   \n",
       "2    6/6/18 3:37           Bachelor's degree (BA. BS. B.Eng.. etc.)   \n",
       "3    5/9/18 1:06  Some college/university study without earning ...   \n",
       "4  4/12/18 22:41           Bachelor's degree (BA. BS. B.Eng.. etc.)   \n",
       "\n",
       "   ConvertedSalary Hobby       Country  StackOverflowJobsRecommend  \\\n",
       "0              NaN   Yes  South Africa                         NaN   \n",
       "1          70841.0   Yes       Sweeden                         7.0   \n",
       "2              NaN    No       Sweeden                         8.0   \n",
       "3          21426.0   Yes       Sweeden                         NaN   \n",
       "4          41671.0   Yes            UK                         8.0   \n",
       "\n",
       "      VersionControl  Age  Years Experience Gender   RawSalary  \n",
       "0                Git   21                13   Male         NaN  \n",
       "1     Git;Subversion   38                 9   Male   70,841.00  \n",
       "2                Git   45                11    NaN         NaN  \n",
       "3  Zip file back-ups   46                12   Male   21,426.00  \n",
       "4                Git   39                 7   Male  £41,671.00  "
      ]
     },
     "execution_count": 3,
     "metadata": {},
     "output_type": "execute_result"
    }
   ],
   "source": [
    "# Print the first five rows of the DataFrame\n",
    "so_survey_df.head()\n"
   ]
  },
  {
   "cell_type": "code",
   "execution_count": 4,
   "id": "56e38db3",
   "metadata": {},
   "outputs": [
    {
     "name": "stdout",
     "output_type": "stream",
     "text": [
      "SurveyDate                     object\n",
      "FormalEducation                object\n",
      "ConvertedSalary               float64\n",
      "Hobby                          object\n",
      "Country                        object\n",
      "StackOverflowJobsRecommend    float64\n",
      "VersionControl                 object\n",
      "Age                             int64\n",
      "Years Experience                int64\n",
      "Gender                         object\n",
      "RawSalary                      object\n",
      "dtype: object\n"
     ]
    }
   ],
   "source": [
    "# Print the data type of each column\n",
    "print(so_survey_df.dtypes)\n"
   ]
  },
  {
   "cell_type": "code",
   "execution_count": 5,
   "id": "495a83a5",
   "metadata": {},
   "outputs": [
    {
     "name": "stdout",
     "output_type": "stream",
     "text": [
      "Index(['ConvertedSalary', 'StackOverflowJobsRecommend', 'Age',\n",
      "       'Years Experience'],\n",
      "      dtype='object')\n"
     ]
    }
   ],
   "source": [
    "# Create subset of only the numeric columns\n",
    "so_numeric_df = so_survey_df.select_dtypes(include=['int', 'float'])\n",
    "\n",
    "# Print the column names contained in so_survey_df_num\n",
    "print(so_numeric_df.columns)\n"
   ]
  },
  {
   "cell_type": "code",
   "execution_count": 6,
   "id": "dad45c5a",
   "metadata": {},
   "outputs": [
    {
     "name": "stdout",
     "output_type": "stream",
     "text": [
      "Index(['SurveyDate', 'FormalEducation', 'ConvertedSalary', 'Hobby',\n",
      "       'StackOverflowJobsRecommend', 'VersionControl', 'Age',\n",
      "       'Years Experience', 'Gender', 'RawSalary', 'OH_France', 'OH_India',\n",
      "       'OH_Ireland', 'OH_Russia', 'OH_South Africa', 'OH_Spain', 'OH_Sweeden',\n",
      "       'OH_UK', 'OH_USA', 'OH_Ukraine'],\n",
      "      dtype='object')\n"
     ]
    }
   ],
   "source": [
    "# Convert the Country column to a one hot encoded Data Frame\n",
    "one_hot_encoded = pd.get_dummies(so_survey_df, columns=['Country'], prefix='OH')\n",
    "\n",
    "# Print the columns names\n",
    "print(one_hot_encoded.columns)\n"
   ]
  },
  {
   "cell_type": "code",
   "execution_count": 7,
   "id": "05d93421",
   "metadata": {},
   "outputs": [
    {
     "name": "stdout",
     "output_type": "stream",
     "text": [
      "Index(['SurveyDate', 'FormalEducation', 'ConvertedSalary', 'Hobby',\n",
      "       'StackOverflowJobsRecommend', 'VersionControl', 'Age',\n",
      "       'Years Experience', 'Gender', 'RawSalary', 'DM_India', 'DM_Ireland',\n",
      "       'DM_Russia', 'DM_South Africa', 'DM_Spain', 'DM_Sweeden', 'DM_UK',\n",
      "       'DM_USA', 'DM_Ukraine'],\n",
      "      dtype='object')\n"
     ]
    }
   ],
   "source": [
    "# Create dummy variables for the Country column\n",
    "dummy = pd.get_dummies(so_survey_df, columns=['Country'], drop_first=True, prefix='DM')\n",
    "\n",
    "# Print the columns names\n",
    "print(dummy.columns)\n"
   ]
  },
  {
   "cell_type": "code",
   "execution_count": 8,
   "id": "02c809d0",
   "metadata": {},
   "outputs": [
    {
     "data": {
      "text/plain": [
       "South Africa    166\n",
       "USA             164\n",
       "Spain           134\n",
       "Sweeden         119\n",
       "France          115\n",
       "Russia           97\n",
       "UK               95\n",
       "India            95\n",
       "Ukraine           9\n",
       "Ireland           5\n",
       "Name: Country, dtype: int64"
      ]
     },
     "execution_count": 8,
     "metadata": {},
     "output_type": "execute_result"
    }
   ],
   "source": [
    "# Create a series out of the Country column\n",
    "countries = so_survey_df['Country']\n",
    "\n",
    "# Get the counts of each category\n",
    "country_counts = countries.value_counts()\n",
    "\n",
    "# Print the count values for each category\n",
    "country_counts\n"
   ]
  },
  {
   "cell_type": "code",
   "execution_count": 9,
   "id": "7dd8c609",
   "metadata": {},
   "outputs": [
    {
     "data": {
      "text/plain": [
       "0    False\n",
       "1    False\n",
       "2    False\n",
       "3    False\n",
       "4    False\n",
       "Name: Country, dtype: bool"
      ]
     },
     "execution_count": 9,
     "metadata": {},
     "output_type": "execute_result"
    }
   ],
   "source": [
    "# Create a series out of the Country column\n",
    "countries = so_survey_df['Country']\n",
    "\n",
    "# Get the counts of each category\n",
    "country_counts = countries.value_counts()\n",
    "\n",
    "# Create a mask for only categories that occur less than 10 times\n",
    "mask = countries.isin(country_counts[country_counts < 10].index)\n",
    "\n",
    "# Print the top 5 rows in the mask series\n",
    "mask.head()\n"
   ]
  },
  {
   "cell_type": "code",
   "execution_count": 10,
   "id": "ad7fd5a6",
   "metadata": {},
   "outputs": [
    {
     "name": "stdout",
     "output_type": "stream",
     "text": [
      "South Africa    166\n",
      "USA             164\n",
      "Spain           134\n",
      "Sweeden         119\n",
      "France          115\n",
      "Russia           97\n",
      "UK               95\n",
      "India            95\n",
      "Other            14\n",
      "Name: Country, dtype: int64\n"
     ]
    },
    {
     "name": "stderr",
     "output_type": "stream",
     "text": [
      "/var/folders/km/zm6_mphn3wzcqqxs3jyl5rs40000gn/T/ipykernel_97986/3115872350.py:11: SettingWithCopyWarning: \n",
      "A value is trying to be set on a copy of a slice from a DataFrame\n",
      "\n",
      "See the caveats in the documentation: https://pandas.pydata.org/pandas-docs/stable/user_guide/indexing.html#returning-a-view-versus-a-copy\n",
      "  countries[mask] = 'Other'\n"
     ]
    }
   ],
   "source": [
    "# Create a series out of the Country column\n",
    "countries = so_survey_df['Country']\n",
    "\n",
    "# Get the counts of each category\n",
    "country_counts = countries.value_counts()\n",
    "\n",
    "# Create a mask for only categories that occur less than 10 times\n",
    "mask = countries.isin(country_counts[country_counts < 10].index)\n",
    "\n",
    "# Label all other categories as Other\n",
    "countries[mask] = 'Other'\n",
    "\n",
    "# Print the updated category counts\n",
    "print(pd.value_counts(countries))\n"
   ]
  },
  {
   "cell_type": "code",
   "execution_count": 11,
   "id": "acf74631",
   "metadata": {},
   "outputs": [
    {
     "name": "stdout",
     "output_type": "stream",
     "text": [
      "   Paid_Job  ConvertedSalary\n",
      "0         0              NaN\n",
      "1         1          70841.0\n",
      "2         0              NaN\n",
      "3         1          21426.0\n",
      "4         1          41671.0\n"
     ]
    }
   ],
   "source": [
    "# Create the Paid_Job column filled with zeros\n",
    "so_survey_df['Paid_Job'] = 0\n",
    "\n",
    "# Replace all the Paid_Job values where ConvertedSalary is > 0\n",
    "so_survey_df.loc[so_survey_df['ConvertedSalary'] > 0, 'Paid_Job'] = 1\n",
    "\n",
    "# Print the first five rows of the columns\n",
    "print(so_survey_df[['Paid_Job', 'ConvertedSalary']].head())\n"
   ]
  },
  {
   "cell_type": "code",
   "execution_count": 12,
   "id": "188d4065",
   "metadata": {},
   "outputs": [
    {
     "name": "stdout",
     "output_type": "stream",
     "text": [
      "          equal_binned  ConvertedSalary\n",
      "0                  NaN              NaN\n",
      "1  (-2000.0, 400000.0]          70841.0\n",
      "2                  NaN              NaN\n",
      "3  (-2000.0, 400000.0]          21426.0\n",
      "4  (-2000.0, 400000.0]          41671.0\n"
     ]
    }
   ],
   "source": [
    "# Bin the continuous variable ConvertedSalary into 5 bins\n",
    "so_survey_df['equal_binned'] = pd.cut(so_survey_df['ConvertedSalary'], 5)\n",
    "\n",
    "# Print the first 5 rows of the equal_binned column\n",
    "print(so_survey_df[['equal_binned', 'ConvertedSalary']].head())\n"
   ]
  },
  {
   "cell_type": "code",
   "execution_count": 13,
   "id": "beac7366",
   "metadata": {},
   "outputs": [
    {
     "name": "stdout",
     "output_type": "stream",
     "text": [
      "  boundary_binned  ConvertedSalary\n",
      "0             NaN              NaN\n",
      "1          Medium          70841.0\n",
      "2             NaN              NaN\n",
      "3             Low          21426.0\n",
      "4             Low          41671.0\n"
     ]
    }
   ],
   "source": [
    "# Import numpy\n",
    "import numpy as np\n",
    "\n",
    "# Specify the boundaries of the bins\n",
    "bins = [-np.inf, 10000, 50000, 100000, 150000, np.inf]\n",
    "\n",
    "# Bin labels\n",
    "labels = ['Very low', 'Low', 'Medium', 'High', 'Very high']\n",
    "\n",
    "# Bin the continuous variable ConvertedSalary using these boundaries\n",
    "so_survey_df['boundary_binned'] = pd.cut(so_survey_df['ConvertedSalary'], \n",
    "                                         bins, labels = labels)\n",
    "\n",
    "# Print the first 5 rows of the boundary_binned column\n",
    "print(so_survey_df[['boundary_binned', 'ConvertedSalary']].head())\n"
   ]
  },
  {
   "cell_type": "code",
   "execution_count": 14,
   "id": "ffa11b9e",
   "metadata": {},
   "outputs": [
    {
     "name": "stdout",
     "output_type": "stream",
     "text": [
      "<class 'pandas.core.frame.DataFrame'>\n",
      "RangeIndex: 999 entries, 0 to 998\n",
      "Data columns (total 2 columns):\n",
      " #   Column  Non-Null Count  Dtype \n",
      "---  ------  --------------  ----- \n",
      " 0   Age     999 non-null    int64 \n",
      " 1   Gender  693 non-null    object\n",
      "dtypes: int64(1), object(1)\n",
      "memory usage: 15.7+ KB\n",
      "None\n"
     ]
    }
   ],
   "source": [
    "# Subset the DataFrame\n",
    "sub_df = so_survey_df[['Age', 'Gender']]\n",
    "\n",
    "# Print the number of non-missing values\n",
    "print(sub_df.info())\n"
   ]
  },
  {
   "cell_type": "code",
   "execution_count": 15,
   "id": "c4b034b3",
   "metadata": {},
   "outputs": [
    {
     "name": "stdout",
     "output_type": "stream",
     "text": [
      "   Age  Gender\n",
      "0   21    Male\n",
      "1   38    Male\n",
      "2   45     NaN\n",
      "3   46    Male\n",
      "4   39    Male\n",
      "5   39    Male\n",
      "6   34    Male\n",
      "7   24  Female\n",
      "8   23    Male\n",
      "9   36     NaN\n"
     ]
    }
   ],
   "source": [
    "# Print the top 10 entries of the DataFrame\n",
    "print(sub_df.head(10))\n"
   ]
  },
  {
   "cell_type": "code",
   "execution_count": 16,
   "id": "528256e6",
   "metadata": {},
   "outputs": [
    {
     "name": "stdout",
     "output_type": "stream",
     "text": [
      "     Age  Gender\n",
      "0  False   False\n",
      "1  False   False\n",
      "2  False    True\n",
      "3  False   False\n",
      "4  False   False\n",
      "5  False   False\n",
      "6  False   False\n",
      "7  False   False\n",
      "8  False   False\n",
      "9  False    True\n"
     ]
    }
   ],
   "source": [
    "# Print the locations of the missing values\n",
    "print(sub_df.head(10).isnull())\n"
   ]
  },
  {
   "cell_type": "code",
   "execution_count": 17,
   "id": "5bf0ec65",
   "metadata": {},
   "outputs": [
    {
     "name": "stdout",
     "output_type": "stream",
     "text": [
      "    Age  Gender\n",
      "0  True    True\n",
      "1  True    True\n",
      "2  True   False\n",
      "3  True    True\n",
      "4  True    True\n",
      "5  True    True\n",
      "6  True    True\n",
      "7  True    True\n",
      "8  True    True\n",
      "9  True   False\n"
     ]
    }
   ],
   "source": [
    "# Print the locations of the non-missing values\n",
    "print(sub_df.head(10).notnull())\n"
   ]
  },
  {
   "cell_type": "code",
   "execution_count": 18,
   "id": "c0c5e3ad",
   "metadata": {},
   "outputs": [
    {
     "name": "stdout",
     "output_type": "stream",
     "text": [
      "(999, 14)\n"
     ]
    }
   ],
   "source": [
    "# Print the number of rows and columns\n",
    "print(so_survey_df.shape)\n"
   ]
  },
  {
   "cell_type": "code",
   "execution_count": 19,
   "id": "bb0b9448",
   "metadata": {},
   "outputs": [
    {
     "name": "stdout",
     "output_type": "stream",
     "text": [
      "(264, 14)\n"
     ]
    }
   ],
   "source": [
    "# Create a new DataFrame dropping all incomplete rows\n",
    "no_missing_values_rows = so_survey_df.dropna(how='any')\n",
    "\n",
    "# Print the shape of the new DataFrame\n",
    "print(no_missing_values_rows.shape)\n"
   ]
  },
  {
   "cell_type": "code",
   "execution_count": 20,
   "id": "d7e422f9",
   "metadata": {},
   "outputs": [
    {
     "name": "stdout",
     "output_type": "stream",
     "text": [
      "(999, 8)\n"
     ]
    }
   ],
   "source": [
    "# Create a new DataFrame dropping all columns with incomplete rows\n",
    "no_missing_values_cols = so_survey_df.dropna(how='any', axis=1)\n",
    "\n",
    "# Print the shape of the new DataFrame\n",
    "print(no_missing_values_cols.shape)\n"
   ]
  },
  {
   "cell_type": "code",
   "execution_count": 21,
   "id": "cbf476d8",
   "metadata": {},
   "outputs": [
    {
     "name": "stdout",
     "output_type": "stream",
     "text": [
      "(693, 14)\n"
     ]
    }
   ],
   "source": [
    "# Drop all rows where Gender is missing\n",
    "no_gender = so_survey_df.dropna(subset=['Gender'])\n",
    "\n",
    "# Print the shape of the new DataFrame\n",
    "print(no_gender.shape)\n"
   ]
  },
  {
   "cell_type": "code",
   "execution_count": 22,
   "id": "ff101f87",
   "metadata": {},
   "outputs": [
    {
     "name": "stdout",
     "output_type": "stream",
     "text": [
      "Male                                                                         632\n",
      "Female                                                                        53\n",
      "Female;Male                                                                    2\n",
      "Transgender                                                                    2\n",
      "Female;Male;Transgender;Non-binary. genderqueer. or gender non-conforming      1\n",
      "Male;Non-binary. genderqueer. or gender non-conforming                         1\n",
      "Non-binary. genderqueer. or gender non-conforming                              1\n",
      "Female;Transgender                                                             1\n",
      "Name: Gender, dtype: int64\n"
     ]
    }
   ],
   "source": [
    "# Print the count of occurrences\n",
    "print(so_survey_df['Gender'].value_counts())\n"
   ]
  },
  {
   "cell_type": "code",
   "execution_count": 23,
   "id": "b5fe0aa4",
   "metadata": {},
   "outputs": [
    {
     "name": "stdout",
     "output_type": "stream",
     "text": [
      "Male                                                                         632\n",
      "Not Given                                                                    306\n",
      "Female                                                                        53\n",
      "Female;Male                                                                    2\n",
      "Transgender                                                                    2\n",
      "Female;Male;Transgender;Non-binary. genderqueer. or gender non-conforming      1\n",
      "Male;Non-binary. genderqueer. or gender non-conforming                         1\n",
      "Non-binary. genderqueer. or gender non-conforming                              1\n",
      "Female;Transgender                                                             1\n",
      "Name: Gender, dtype: int64\n"
     ]
    }
   ],
   "source": [
    "# Replace missing values\n",
    "so_survey_df['Gender'].fillna(value='Not Given', inplace=True)\n",
    "\n",
    "# Print the count of each value\n",
    "print(so_survey_df['Gender'].value_counts())\n"
   ]
  },
  {
   "cell_type": "code",
   "execution_count": 24,
   "id": "2936c7f4",
   "metadata": {},
   "outputs": [
    {
     "name": "stdout",
     "output_type": "stream",
     "text": [
      "0    NaN\n",
      "1    7.0\n",
      "2    8.0\n",
      "3    NaN\n",
      "4    8.0\n",
      "Name: StackOverflowJobsRecommend, dtype: float64\n"
     ]
    }
   ],
   "source": [
    "# Print the first five rows of StackOverflowJobsRecommend column\n",
    "print(so_survey_df['StackOverflowJobsRecommend'].head())\n"
   ]
  },
  {
   "cell_type": "code",
   "execution_count": 25,
   "id": "d8a5887e",
   "metadata": {},
   "outputs": [
    {
     "name": "stdout",
     "output_type": "stream",
     "text": [
      "0    7.061602\n",
      "1    7.000000\n",
      "2    8.000000\n",
      "3    7.061602\n",
      "4    8.000000\n",
      "Name: StackOverflowJobsRecommend, dtype: float64\n"
     ]
    }
   ],
   "source": [
    "# Fill missing values with the mean\n",
    "so_survey_df['StackOverflowJobsRecommend'].fillna(so_survey_df['StackOverflowJobsRecommend'].mean(), inplace=True)\n",
    "\n",
    "# Print the first five rows of StackOverflowJobsRecommend column\n",
    "print(so_survey_df['StackOverflowJobsRecommend'].head())\n"
   ]
  },
  {
   "cell_type": "code",
   "execution_count": 26,
   "id": "be101bd1",
   "metadata": {},
   "outputs": [
    {
     "name": "stdout",
     "output_type": "stream",
     "text": [
      "0    7.0\n",
      "1    7.0\n",
      "2    8.0\n",
      "3    7.0\n",
      "4    8.0\n",
      "Name: StackOverflowJobsRecommend, dtype: float64\n"
     ]
    }
   ],
   "source": [
    "# Fill missing values with the mean\n",
    "so_survey_df['StackOverflowJobsRecommend'].fillna(so_survey_df['StackOverflowJobsRecommend'].mean(), inplace=True)\n",
    "\n",
    "# Round the StackOverflowJobsRecommend values\n",
    "so_survey_df['StackOverflowJobsRecommend'] = round(so_survey_df['StackOverflowJobsRecommend'])\n",
    "\n",
    "# Print the top 5 rows\n",
    "print(so_survey_df['StackOverflowJobsRecommend'].head())\n"
   ]
  },
  {
   "cell_type": "code",
   "execution_count": 27,
   "id": "d87a1ec2",
   "metadata": {},
   "outputs": [],
   "source": [
    "# Remove the commas in the column\n",
    "so_survey_df['RawSalary'] = so_survey_df['RawSalary'].str.replace(',', '')\n"
   ]
  },
  {
   "cell_type": "code",
   "execution_count": 28,
   "id": "251066c7",
   "metadata": {},
   "outputs": [
    {
     "name": "stderr",
     "output_type": "stream",
     "text": [
      "/var/folders/km/zm6_mphn3wzcqqxs3jyl5rs40000gn/T/ipykernel_97986/1130307102.py:2: FutureWarning: The default value of regex will change from True to False in a future version. In addition, single character regular expressions will *not* be treated as literal strings when regex=True.\n",
      "  so_survey_df['RawSalary'] = so_survey_df['RawSalary'].str.replace('$', '')\n"
     ]
    }
   ],
   "source": [
    "# Remove the dollar signs in the column\n",
    "so_survey_df['RawSalary'] = so_survey_df['RawSalary'].str.replace('$', '')\n"
   ]
  },
  {
   "cell_type": "code",
   "execution_count": 29,
   "id": "afae5798",
   "metadata": {},
   "outputs": [
    {
     "name": "stdout",
     "output_type": "stream",
     "text": [
      "0            NaN\n",
      "2            NaN\n",
      "4      £41671.00\n",
      "6            NaN\n",
      "8            NaN\n",
      "         ...    \n",
      "989          NaN\n",
      "990          NaN\n",
      "992          NaN\n",
      "994          NaN\n",
      "997          NaN\n",
      "Name: RawSalary, Length: 401, dtype: object\n"
     ]
    }
   ],
   "source": [
    "# Attempt to convert the column to numeric values\n",
    "numeric_vals = pd.to_numeric(so_survey_df['RawSalary'], errors='coerce')\n",
    "\n",
    "# Find the indexes of missing values\n",
    "idx = numeric_vals.isna()\n",
    "\n",
    "# Print the relevant rows\n",
    "print(so_survey_df['RawSalary'][idx])\n"
   ]
  },
  {
   "cell_type": "code",
   "execution_count": 30,
   "id": "cef72dd5",
   "metadata": {},
   "outputs": [
    {
     "name": "stdout",
     "output_type": "stream",
     "text": [
      "0            NaN\n",
      "1        70841.0\n",
      "2            NaN\n",
      "3        21426.0\n",
      "4        41671.0\n",
      "         ...    \n",
      "994          NaN\n",
      "995      58746.0\n",
      "996      55000.0\n",
      "997          NaN\n",
      "998    1000000.0\n",
      "Name: RawSalary, Length: 999, dtype: float64\n"
     ]
    }
   ],
   "source": [
    "# Replace the offending characters\n",
    "so_survey_df['RawSalary'] = so_survey_df['RawSalary'].str.replace('£', '')\n",
    "\n",
    "# Convert the column to float\n",
    "so_survey_df['RawSalary'] = so_survey_df['RawSalary'].astype('float')\n",
    "\n",
    "# Print the column\n",
    "print(so_survey_df['RawSalary'])\n"
   ]
  },
  {
   "cell_type": "code",
   "execution_count": 31,
   "id": "b888032d",
   "metadata": {},
   "outputs": [
    {
     "data": {
      "image/png": "[encoded data removed]",
      "text/plain": [
       "<Figure size 640x480 with 4 Axes>"
      ]
     },
     "metadata": {},
     "output_type": "display_data"
    }
   ],
   "source": [
    "# Create a histogram\n",
    "so_numeric_df.hist()\n",
    "plt.show()\n"
   ]
  },
  {
   "cell_type": "code",
   "execution_count": 32,
   "id": "37273f4f",
   "metadata": {},
   "outputs": [
    {
     "data": {
      "image/png": "[encoded data removed]",
      "text/plain": [
       "<Figure size 640x480 with 1 Axes>"
      ]
     },
     "metadata": {},
     "output_type": "display_data"
    }
   ],
   "source": [
    "# Create a boxplot of two columns\n",
    "so_numeric_df[['Age', 'Years Experience']].boxplot()\n",
    "plt.show() \n"
   ]
  },
  {
   "cell_type": "code",
   "execution_count": 33,
   "id": "531520d0",
   "metadata": {},
   "outputs": [
    {
     "data": {
      "image/png": "[encoded data removed]",
      "text/plain": [
       "<Figure size 640x480 with 1 Axes>"
      ]
     },
     "metadata": {},
     "output_type": "display_data"
    }
   ],
   "source": [
    "# Create a boxplot of ConvertedSalary\n",
    "so_numeric_df[['ConvertedSalary']].boxplot()\n",
    "plt.show()\n"
   ]
  },
  {
   "cell_type": "code",
   "execution_count": 34,
   "id": "7422480e",
   "metadata": {},
   "outputs": [
    {
     "data": {
      "image/png": "[encoded data removed]",
      "text/plain": [
       "<Figure size 1000x1000 with 20 Axes>"
      ]
     },
     "metadata": {},
     "output_type": "display_data"
    }
   ],
   "source": [
    "# Plot pairwise relationships\n",
    "sns.pairplot(so_numeric_df)\n",
    "\n",
    "# Show plot\n",
    "plt.show()\n"
   ]
  },
  {
   "cell_type": "code",
   "execution_count": 35,
   "id": "33c43cb9",
   "metadata": {},
   "outputs": [
    {
     "name": "stdout",
     "output_type": "stream",
     "text": [
      "       ConvertedSalary  StackOverflowJobsRecommend         Age  \\\n",
      "count     6.650000e+02                  487.000000  999.000000   \n",
      "mean      9.256517e+04                    7.061602   36.003003   \n",
      "std       2.091344e+05                    2.621591   13.255127   \n",
      "min       0.000000e+00                    0.000000   18.000000   \n",
      "25%       2.755000e+04                    5.000000   25.000000   \n",
      "50%       5.556200e+04                    7.000000   35.000000   \n",
      "75%       8.823800e+04                   10.000000   45.000000   \n",
      "max       2.000000e+06                   10.000000   83.000000   \n",
      "\n",
      "       Years Experience  \n",
      "count        999.000000  \n",
      "mean           9.961962  \n",
      "std            4.878129  \n",
      "min            0.000000  \n",
      "25%            7.000000  \n",
      "50%           10.000000  \n",
      "75%           13.000000  \n",
      "max           27.000000  \n"
     ]
    }
   ],
   "source": [
    "# Print summary statistics\n",
    "print(so_numeric_df.describe())\n"
   ]
  },
  {
   "cell_type": "code",
   "execution_count": 36,
   "id": "477e8075",
   "metadata": {},
   "outputs": [
    {
     "name": "stdout",
     "output_type": "stream",
     "text": [
      "     Age_MM  Age\n",
      "0  0.046154   21\n",
      "1  0.307692   38\n",
      "2  0.415385   45\n",
      "3  0.430769   46\n",
      "4  0.323077   39\n"
     ]
    }
   ],
   "source": [
    "# Import MinMaxScaler\n",
    "from sklearn.preprocessing import MinMaxScaler\n",
    "\n",
    "# Instantiate MinMaxScaler\n",
    "MM_scaler = MinMaxScaler()\n",
    "\n",
    "# Fit MM_scaler to the data\n",
    "MM_scaler.fit(so_numeric_df[['Age']])\n",
    "\n",
    "# Transform the data using the fitted scaler\n",
    "so_numeric_df['Age_MM'] = MM_scaler.transform(so_numeric_df[['Age']])\n",
    "\n",
    "# Compare the origional and transformed column\n",
    "print(so_numeric_df[['Age_MM', 'Age']].head())\n"
   ]
  },
  {
   "cell_type": "code",
   "execution_count": 37,
   "id": "1605f7e5",
   "metadata": {},
   "outputs": [
    {
     "name": "stdout",
     "output_type": "stream",
     "text": [
      "     Age_SS  Age\n",
      "0 -1.132431   21\n",
      "1  0.150734   38\n",
      "2  0.679096   45\n",
      "3  0.754576   46\n",
      "4  0.226214   39\n"
     ]
    }
   ],
   "source": [
    "# Import StandardScaler\n",
    "from sklearn.preprocessing import StandardScaler\n",
    "\n",
    "# Instantiate StandardScaler\n",
    "SS_scaler = StandardScaler()\n",
    "\n",
    "# Fit SS_scaler to the data\n",
    "SS_scaler.fit(so_numeric_df[['Age']])\n",
    "\n",
    "# Transform the data using the fitted scaler\n",
    "so_numeric_df['Age_SS'] = SS_scaler.transform(so_numeric_df[['Age']])\n",
    "\n",
    "# Compare the origional and transformed column\n",
    "print(so_numeric_df[['Age_SS', 'Age']].head())\n"
   ]
  },
  {
   "cell_type": "code",
   "execution_count": 38,
   "id": "c617af04",
   "metadata": {},
   "outputs": [
    {
     "data": {
      "image/png": "[encoded data removed]",
      "text/plain": [
       "<Figure size 640x480 with 2 Axes>"
      ]
     },
     "metadata": {},
     "output_type": "display_data"
    }
   ],
   "source": [
    "# Import PowerTransformer\n",
    "from sklearn.preprocessing import PowerTransformer\n",
    "\n",
    "# Instantiate PowerTransformer\n",
    "pow_trans = PowerTransformer()\n",
    "\n",
    "# Train the transform on the data\n",
    "pow_trans.fit(so_numeric_df[['ConvertedSalary']])\n",
    "\n",
    "# Apply the power transform to the data\n",
    "so_numeric_df['ConvertedSalary_LG'] = pow_trans.transform(so_numeric_df[['ConvertedSalary']])\n",
    "\n",
    "# Plot the data before and after the transformation\n",
    "so_numeric_df[['ConvertedSalary', 'ConvertedSalary_LG']].hist()\n",
    "plt.show()\n"
   ]
  },
  {
   "cell_type": "code",
   "execution_count": 39,
   "id": "56bbf17e",
   "metadata": {},
   "outputs": [
    {
     "data": {
      "image/png": "[encoded data removed]",
      "text/plain": [
       "<Figure size 640x480 with 1 Axes>"
      ]
     },
     "metadata": {},
     "output_type": "display_data"
    },
    {
     "data": {
      "text/plain": [
       "<Figure size 640x480 with 0 Axes>"
      ]
     },
     "metadata": {},
     "output_type": "display_data"
    },
    {
     "data": {
      "image/png": "[encoded data removed]",
      "text/plain": [
       "<Figure size 640x480 with 1 Axes>"
      ]
     },
     "metadata": {},
     "output_type": "display_data"
    }
   ],
   "source": [
    "# Find the 95th quantile\n",
    "quantile = so_numeric_df['ConvertedSalary'].quantile(0.95)\n",
    "\n",
    "# Trim the outliers\n",
    "trimmed_df = so_numeric_df[so_numeric_df['ConvertedSalary'] < quantile]\n",
    "\n",
    "# The original histogram\n",
    "so_numeric_df[['ConvertedSalary']].hist()\n",
    "plt.show()\n",
    "plt.clf()\n",
    "\n",
    "# The trimmed histogram\n",
    "trimmed_df[['ConvertedSalary']].hist()\n",
    "plt.show()\n"
   ]
  },
  {
   "cell_type": "code",
   "execution_count": 40,
   "id": "52a6251a",
   "metadata": {},
   "outputs": [
    {
     "data": {
      "image/png": "[encoded data removed]",
      "text/plain": [
       "<Figure size 640x480 with 1 Axes>"
      ]
     },
     "metadata": {},
     "output_type": "display_data"
    }
   ],
   "source": [
    "# Find the mean and standard dev\n",
    "std = so_numeric_df['ConvertedSalary'].std()\n",
    "mean = so_numeric_df['ConvertedSalary'].mean()\n",
    "\n",
    "# Calculate the cutoff\n",
    "cut_off = std * 3\n",
    "lower, upper = mean - cut_off, mean + cut_off\n",
    "\n",
    "# Trim the outliers\n",
    "trimmed_df = so_numeric_df[(so_numeric_df['ConvertedSalary'] < upper) \\\n",
    "                           & (so_numeric_df['ConvertedSalary'] > lower)]\n",
    "\n",
    "# The trimmed box plot\n",
    "trimmed_df[['ConvertedSalary']].boxplot()\n",
    "plt.show()\n"
   ]
  },
  {
   "cell_type": "code",
   "execution_count": 41,
   "id": "f4594053",
   "metadata": {},
   "outputs": [
    {
     "data": {
      "text/html": [
       "<div>\n",
       "<style scoped>\n",
       "    .dataframe tbody tr th:only-of-type {\n",
       "        vertical-align: middle;\n",
       "    }\n",
       "\n",
       "    .dataframe tbody tr th {\n",
       "        vertical-align: top;\n",
       "    }\n",
       "\n",
       "    .dataframe thead th {\n",
       "        text-align: right;\n",
       "    }\n",
       "</style>\n",
       "<table border=\"1\" class=\"dataframe\">\n",
       "  <thead>\n",
       "    <tr style=\"text-align: right;\">\n",
       "      <th></th>\n",
       "      <th>Name</th>\n",
       "      <th>Inaugural Address</th>\n",
       "      <th>Date</th>\n",
       "      <th>text</th>\n",
       "    </tr>\n",
       "  </thead>\n",
       "  <tbody>\n",
       "    <tr>\n",
       "      <th>0</th>\n",
       "      <td>George Washington</td>\n",
       "      <td>First Inaugural Address</td>\n",
       "      <td>Thursday, April 30, 1789</td>\n",
       "      <td>Fellow-Citizens of the Senate and of the House...</td>\n",
       "    </tr>\n",
       "    <tr>\n",
       "      <th>1</th>\n",
       "      <td>George Washington</td>\n",
       "      <td>Second Inaugural Address</td>\n",
       "      <td>Monday, March 4, 1793</td>\n",
       "      <td>Fellow Citizens:  I AM again called upon by th...</td>\n",
       "    </tr>\n",
       "    <tr>\n",
       "      <th>2</th>\n",
       "      <td>John Adams</td>\n",
       "      <td>Inaugural Address</td>\n",
       "      <td>Saturday, March 4, 1797</td>\n",
       "      <td>WHEN it was first perceived, in early times, t...</td>\n",
       "    </tr>\n",
       "    <tr>\n",
       "      <th>3</th>\n",
       "      <td>Thomas Jefferson</td>\n",
       "      <td>First Inaugural Address</td>\n",
       "      <td>Wednesday, March 4, 1801</td>\n",
       "      <td>Friends and Fellow-Citizens:  CALLED upon to u...</td>\n",
       "    </tr>\n",
       "    <tr>\n",
       "      <th>4</th>\n",
       "      <td>Thomas Jefferson</td>\n",
       "      <td>Second Inaugural Address</td>\n",
       "      <td>Monday, March 4, 1805</td>\n",
       "      <td>PROCEEDING, fellow-citizens, to that qualifica...</td>\n",
       "    </tr>\n",
       "    <tr>\n",
       "      <th>5</th>\n",
       "      <td>James Madison</td>\n",
       "      <td>First Inaugural Address</td>\n",
       "      <td>Saturday, March 4, 1809</td>\n",
       "      <td>UNWILLING to depart from examples of the most ...</td>\n",
       "    </tr>\n",
       "    <tr>\n",
       "      <th>6</th>\n",
       "      <td>James Madison</td>\n",
       "      <td>Second Inaugural Address</td>\n",
       "      <td>Thursday, March 4, 1813</td>\n",
       "      <td>ABOUT to add the solemnity of an oath to the o...</td>\n",
       "    </tr>\n",
       "    <tr>\n",
       "      <th>7</th>\n",
       "      <td>James Monroe</td>\n",
       "      <td>First Inaugural Address</td>\n",
       "      <td>Tuesday, March 4, 1817</td>\n",
       "      <td>I SHOULD be destitute of feeling if I was not ...</td>\n",
       "    </tr>\n",
       "    <tr>\n",
       "      <th>8</th>\n",
       "      <td>James Monroe</td>\n",
       "      <td>Second Inaugural Address</td>\n",
       "      <td>Monday, March 5, 1821</td>\n",
       "      <td>Fellow-Citizens:  I SHALL not attempt to descr...</td>\n",
       "    </tr>\n",
       "    <tr>\n",
       "      <th>9</th>\n",
       "      <td>John Quincy Adams</td>\n",
       "      <td>Inaugural Address</td>\n",
       "      <td>Friday, March 4, 1825</td>\n",
       "      <td>IN compliance with an usage coeval with the ex...</td>\n",
       "    </tr>\n",
       "    <tr>\n",
       "      <th>10</th>\n",
       "      <td>Andrew Jackson</td>\n",
       "      <td>First Inaugural Address</td>\n",
       "      <td>Wednesday, March 4, 1829</td>\n",
       "      <td>Fellow-Citizens:  ABOUT to undertake the arduo...</td>\n",
       "    </tr>\n",
       "    <tr>\n",
       "      <th>11</th>\n",
       "      <td>Andrew Jackson</td>\n",
       "      <td>Second Inaugural Address</td>\n",
       "      <td>Monday, March 4, 1833</td>\n",
       "      <td>Fellow-Citizens:  THE will of the American peo...</td>\n",
       "    </tr>\n",
       "    <tr>\n",
       "      <th>12</th>\n",
       "      <td>Martin Van Buren</td>\n",
       "      <td>Inaugural Address</td>\n",
       "      <td>Monday, March 4, 1837</td>\n",
       "      <td>Fellow-Citizens: The practice of all my predec...</td>\n",
       "    </tr>\n",
       "    <tr>\n",
       "      <th>13</th>\n",
       "      <td>William Henry Harrison</td>\n",
       "      <td>Inaugural Address</td>\n",
       "      <td>Thursday, March 4, 1841</td>\n",
       "      <td>CALLED from a retirement which I had supposed ...</td>\n",
       "    </tr>\n",
       "    <tr>\n",
       "      <th>14</th>\n",
       "      <td>James Knox Polk</td>\n",
       "      <td>Inaugural Address</td>\n",
       "      <td>Tuesday, March 4, 1845</td>\n",
       "      <td>Fellow-Citizens:  WITHOUT solicitation on my p...</td>\n",
       "    </tr>\n",
       "    <tr>\n",
       "      <th>15</th>\n",
       "      <td>Zachary Taylor</td>\n",
       "      <td>Inaugural Address</td>\n",
       "      <td>Monday, March 5, 1849</td>\n",
       "      <td>ELECTED by the American people to the highest ...</td>\n",
       "    </tr>\n",
       "    <tr>\n",
       "      <th>16</th>\n",
       "      <td>Franklin Pierce</td>\n",
       "      <td>Inaugural Address</td>\n",
       "      <td>Friday, March 4, 1853</td>\n",
       "      <td>My Countrymen:  IT a relief to feel that no he...</td>\n",
       "    </tr>\n",
       "    <tr>\n",
       "      <th>17</th>\n",
       "      <td>James Buchanan</td>\n",
       "      <td>Inaugural Address</td>\n",
       "      <td>Wednesday, March 4, 1857</td>\n",
       "      <td>Fellow-Citizens:  I APPEAR before you this day...</td>\n",
       "    </tr>\n",
       "    <tr>\n",
       "      <th>18</th>\n",
       "      <td>Abraham Lincoln</td>\n",
       "      <td>First Inaugural Address</td>\n",
       "      <td>Monday, March 4, 1861</td>\n",
       "      <td>Fellow-Citizens of the United States:  IN comp...</td>\n",
       "    </tr>\n",
       "    <tr>\n",
       "      <th>19</th>\n",
       "      <td>Abraham Lincoln</td>\n",
       "      <td>Second Inaugural Address</td>\n",
       "      <td>Saturday, March 4, 1865</td>\n",
       "      <td>Fellow-Countrymen:    AT this second appearing...</td>\n",
       "    </tr>\n",
       "    <tr>\n",
       "      <th>20</th>\n",
       "      <td>Ulysses S. Grant</td>\n",
       "      <td>First Inaugural Address</td>\n",
       "      <td>Thursday, March 4, 1869</td>\n",
       "      <td>Citizens of the United States:  YOUR suffrages...</td>\n",
       "    </tr>\n",
       "    <tr>\n",
       "      <th>21</th>\n",
       "      <td>Ulysses S. Grant</td>\n",
       "      <td>Second Inaugural Address</td>\n",
       "      <td>Tuesday, March 4, 1873</td>\n",
       "      <td>Fellow-Citizens:  UNDER Providence I have been...</td>\n",
       "    </tr>\n",
       "    <tr>\n",
       "      <th>22</th>\n",
       "      <td>Rutherford B. Hayes</td>\n",
       "      <td>Inaugural Address</td>\n",
       "      <td>Monday, March 5, 1877</td>\n",
       "      <td>Fellow-Citizens:  WE have assembled to repeat ...</td>\n",
       "    </tr>\n",
       "    <tr>\n",
       "      <th>23</th>\n",
       "      <td>James A. Garfield</td>\n",
       "      <td>Inaugural Address</td>\n",
       "      <td>Friday, March 4, 1881</td>\n",
       "      <td>Fellow-Citizens:  WE stand to-day upon an emin...</td>\n",
       "    </tr>\n",
       "    <tr>\n",
       "      <th>24</th>\n",
       "      <td>Grover Cleveland</td>\n",
       "      <td>First Inaugural Address</td>\n",
       "      <td>Wednesday, March 4, 1885</td>\n",
       "      <td>Fellow-Citizens:  IN the presence of this vast...</td>\n",
       "    </tr>\n",
       "    <tr>\n",
       "      <th>25</th>\n",
       "      <td>Benjamin Harrison</td>\n",
       "      <td>Inaugural Address</td>\n",
       "      <td>Monday, March 4, 1889</td>\n",
       "      <td>Fellow-Citizens:  THERE is no constitutional o...</td>\n",
       "    </tr>\n",
       "    <tr>\n",
       "      <th>26</th>\n",
       "      <td>Grover Cleveland</td>\n",
       "      <td>Second Inaugural Address</td>\n",
       "      <td>Saturday, March 4, 1893</td>\n",
       "      <td>My Fellow-Citizens:  IN obedience of the manda...</td>\n",
       "    </tr>\n",
       "    <tr>\n",
       "      <th>27</th>\n",
       "      <td>William McKinley</td>\n",
       "      <td>First Inaugural Address</td>\n",
       "      <td>Thursday, March 4, 1897</td>\n",
       "      <td>Fellow-Citizens:  IN obedience to the will of ...</td>\n",
       "    </tr>\n",
       "    <tr>\n",
       "      <th>28</th>\n",
       "      <td>William McKinley</td>\n",
       "      <td>Second Inaugural Address</td>\n",
       "      <td>Monday, March 4, 1901</td>\n",
       "      <td>My Fellow-Citizens:  WHEN we assembled here on...</td>\n",
       "    </tr>\n",
       "    <tr>\n",
       "      <th>29</th>\n",
       "      <td>Theodore Roosevelt</td>\n",
       "      <td>Inaugural Address</td>\n",
       "      <td>Saturday, March 4, 1905</td>\n",
       "      <td>MY fellow-citizens, no people on earth have mo...</td>\n",
       "    </tr>\n",
       "    <tr>\n",
       "      <th>30</th>\n",
       "      <td>William Howard Taft</td>\n",
       "      <td>Inaugural Address</td>\n",
       "      <td>Thursday, March 4, 1909</td>\n",
       "      <td>My Fellow-Citizens:  ANYONE who has taken the ...</td>\n",
       "    </tr>\n",
       "    <tr>\n",
       "      <th>31</th>\n",
       "      <td>Woodrow Wilson</td>\n",
       "      <td>First Inaugural Address</td>\n",
       "      <td>Tuesday, March 4, 1913</td>\n",
       "      <td>THERE has been a change of government. It bega...</td>\n",
       "    </tr>\n",
       "    <tr>\n",
       "      <th>32</th>\n",
       "      <td>Woodrow Wilson</td>\n",
       "      <td>Second Inaugural Address</td>\n",
       "      <td>Monday, March 5, 1917</td>\n",
       "      <td>My Fellow Citizens:  THE four years which have...</td>\n",
       "    </tr>\n",
       "    <tr>\n",
       "      <th>33</th>\n",
       "      <td>Warren G. Harding</td>\n",
       "      <td>Inaugural Address</td>\n",
       "      <td>Friday, March 4, 1921</td>\n",
       "      <td>My Countrymen:  WHEN one surveys the world abo...</td>\n",
       "    </tr>\n",
       "    <tr>\n",
       "      <th>34</th>\n",
       "      <td>Calvin Coolidge</td>\n",
       "      <td>Inaugural Address</td>\n",
       "      <td>Wednesday, March 4, 1925</td>\n",
       "      <td>My Countrymen:  NO one can contemplate current...</td>\n",
       "    </tr>\n",
       "    <tr>\n",
       "      <th>35</th>\n",
       "      <td>Herbert Hoover</td>\n",
       "      <td>Inaugural Address</td>\n",
       "      <td>Monday, March 4, 1929</td>\n",
       "      <td>My Countrymen:  THIS occasion is not alone the...</td>\n",
       "    </tr>\n",
       "    <tr>\n",
       "      <th>36</th>\n",
       "      <td>Franklin D. Roosevelt</td>\n",
       "      <td>First Inaugural Address</td>\n",
       "      <td>Saturday, March 4, 1933</td>\n",
       "      <td>I AM certain that my fellow Americans expect t...</td>\n",
       "    </tr>\n",
       "    <tr>\n",
       "      <th>37</th>\n",
       "      <td>Franklin D. Roosevelt</td>\n",
       "      <td>Second Inaugural Address</td>\n",
       "      <td>Wednesday, January 20, 1937</td>\n",
       "      <td>WHEN four years ago we met to inaugurate a Pre...</td>\n",
       "    </tr>\n",
       "    <tr>\n",
       "      <th>38</th>\n",
       "      <td>Franklin D. Roosevelt</td>\n",
       "      <td>Third Inaugural Address</td>\n",
       "      <td>Monday, January 20, 1941</td>\n",
       "      <td>ON each national day of inauguration since    ...</td>\n",
       "    </tr>\n",
       "    <tr>\n",
       "      <th>39</th>\n",
       "      <td>Franklin D. Roosevelt</td>\n",
       "      <td>Fourth Inaugural Address</td>\n",
       "      <td>Saturday, January 20, 1945</td>\n",
       "      <td>MR. Chief Justice, Mr. Vice President, my frie...</td>\n",
       "    </tr>\n",
       "    <tr>\n",
       "      <th>40</th>\n",
       "      <td>Harry S. Truman</td>\n",
       "      <td>Inaugural Address</td>\n",
       "      <td>Thursday, January 20, 1949</td>\n",
       "      <td>Mr. Vice President, Mr. Chief Justice, and fel...</td>\n",
       "    </tr>\n",
       "    <tr>\n",
       "      <th>41</th>\n",
       "      <td>Dwight D. Eisenhower</td>\n",
       "      <td>First Inaugural Address</td>\n",
       "      <td>Tuesday, January 20, 1953</td>\n",
       "      <td>MY friends, before I begin the expression of t...</td>\n",
       "    </tr>\n",
       "    <tr>\n",
       "      <th>42</th>\n",
       "      <td>Dwight D. Eisenhower</td>\n",
       "      <td>Second Inaugural Address</td>\n",
       "      <td>Monday, January 21, 1957</td>\n",
       "      <td>THE PRICE OF PEACE Mr. Chairman, Mr. Vice Pres...</td>\n",
       "    </tr>\n",
       "    <tr>\n",
       "      <th>43</th>\n",
       "      <td>John F. Kennedy</td>\n",
       "      <td>Inaugural Address</td>\n",
       "      <td>Friday, January 20, 1961</td>\n",
       "      <td>Vice President Johnson, Mr. Speaker, Mr. Chief...</td>\n",
       "    </tr>\n",
       "    <tr>\n",
       "      <th>44</th>\n",
       "      <td>Lyndon Baines Johnson</td>\n",
       "      <td>Inaugural Address</td>\n",
       "      <td>Wednesday, January 20, 1965</td>\n",
       "      <td>My fellow countrymen, on this occasion, the oa...</td>\n",
       "    </tr>\n",
       "    <tr>\n",
       "      <th>45</th>\n",
       "      <td>Richard Milhous Nixon</td>\n",
       "      <td>First Inaugural Address</td>\n",
       "      <td>Monday, January 20, 1969</td>\n",
       "      <td>Senator Dirksen, Mr. Chief Justice, Mr. Vice P...</td>\n",
       "    </tr>\n",
       "    <tr>\n",
       "      <th>46</th>\n",
       "      <td>Richard Milhous Nixon</td>\n",
       "      <td>Second Inaugural Address</td>\n",
       "      <td>Saturday, January 20, 1973</td>\n",
       "      <td>Mr. Vice President, Mr. Speaker, Mr. Chief Jus...</td>\n",
       "    </tr>\n",
       "    <tr>\n",
       "      <th>47</th>\n",
       "      <td>Jimmy Carter</td>\n",
       "      <td>Inaugural Address</td>\n",
       "      <td>Thursday, January 20, 1977</td>\n",
       "      <td>FOR myself and for our Nation, I want to thank...</td>\n",
       "    </tr>\n",
       "    <tr>\n",
       "      <th>48</th>\n",
       "      <td>Ronald Reagan</td>\n",
       "      <td>First Inaugural Address</td>\n",
       "      <td>Tuesday, January 20, 1981</td>\n",
       "      <td>Senator Hatfield, Mr. Chief Justice, Mr. Presi...</td>\n",
       "    </tr>\n",
       "    <tr>\n",
       "      <th>49</th>\n",
       "      <td>Ronald Reagan</td>\n",
       "      <td>Second Inaugural Address</td>\n",
       "      <td>Monday, January 21, 1985</td>\n",
       "      <td>Senator Mathias, Chief Justice Burger, Vice Pr...</td>\n",
       "    </tr>\n",
       "    <tr>\n",
       "      <th>50</th>\n",
       "      <td>George Bush</td>\n",
       "      <td>Inaugural Address</td>\n",
       "      <td>Friday, January 20, 1989</td>\n",
       "      <td>Mr. Chief Justice, Mr. President, Vice Preside...</td>\n",
       "    </tr>\n",
       "    <tr>\n",
       "      <th>51</th>\n",
       "      <td>Bill Clinton</td>\n",
       "      <td>First Inaugural Address</td>\n",
       "      <td>Wednesday, January 21, 1993</td>\n",
       "      <td>My fellow citizens:Today we celebrate the myst...</td>\n",
       "    </tr>\n",
       "    <tr>\n",
       "      <th>52</th>\n",
       "      <td>Bill Clinton</td>\n",
       "      <td>Second Inaugural Address</td>\n",
       "      <td>20-Jan-97</td>\n",
       "      <td>My fellow citizens:At this last presidential i...</td>\n",
       "    </tr>\n",
       "    <tr>\n",
       "      <th>53</th>\n",
       "      <td>George W. Bush</td>\n",
       "      <td>First Inaugural Address</td>\n",
       "      <td>Saturday, January 20, 2001</td>\n",
       "      <td>President Clinton, distinguished guests and my...</td>\n",
       "    </tr>\n",
       "    <tr>\n",
       "      <th>54</th>\n",
       "      <td>George W. Bush</td>\n",
       "      <td>Second Inaugural Address</td>\n",
       "      <td>Thursday, January 20, 2005</td>\n",
       "      <td>Vice President Cheney, Mr. Chief Justice, Pres...</td>\n",
       "    </tr>\n",
       "    <tr>\n",
       "      <th>55</th>\n",
       "      <td>Barack Obama</td>\n",
       "      <td>First Inaugural Address</td>\n",
       "      <td>Tuesday, January 20, 2009</td>\n",
       "      <td>My fellow citizens:    I stand here today humb...</td>\n",
       "    </tr>\n",
       "    <tr>\n",
       "      <th>56</th>\n",
       "      <td>Barack Obama</td>\n",
       "      <td>Second Inaugural Address</td>\n",
       "      <td>Monday, January 21, 2013</td>\n",
       "      <td>Vice President Biden, Mr. Chief Justice, Membe...</td>\n",
       "    </tr>\n",
       "    <tr>\n",
       "      <th>57</th>\n",
       "      <td>Donald J. Trump</td>\n",
       "      <td>Inaugural Address</td>\n",
       "      <td>Friday, January 20, 2017</td>\n",
       "      <td>Chief Justice Roberts, President Carter, Presi...</td>\n",
       "    </tr>\n",
       "  </tbody>\n",
       "</table>\n",
       "</div>"
      ],
      "text/plain": [
       "                      Name         Inaugural Address  \\\n",
       "0        George Washington   First Inaugural Address   \n",
       "1        George Washington  Second Inaugural Address   \n",
       "2               John Adams         Inaugural Address   \n",
       "3         Thomas Jefferson   First Inaugural Address   \n",
       "4         Thomas Jefferson  Second Inaugural Address   \n",
       "5            James Madison   First Inaugural Address   \n",
       "6            James Madison  Second Inaugural Address   \n",
       "7             James Monroe   First Inaugural Address   \n",
       "8             James Monroe  Second Inaugural Address   \n",
       "9        John Quincy Adams         Inaugural Address   \n",
       "10          Andrew Jackson   First Inaugural Address   \n",
       "11          Andrew Jackson  Second Inaugural Address   \n",
       "12        Martin Van Buren         Inaugural Address   \n",
       "13  William Henry Harrison         Inaugural Address   \n",
       "14         James Knox Polk         Inaugural Address   \n",
       "15          Zachary Taylor         Inaugural Address   \n",
       "16         Franklin Pierce         Inaugural Address   \n",
       "17          James Buchanan         Inaugural Address   \n",
       "18         Abraham Lincoln   First Inaugural Address   \n",
       "19         Abraham Lincoln  Second Inaugural Address   \n",
       "20        Ulysses S. Grant   First Inaugural Address   \n",
       "21        Ulysses S. Grant  Second Inaugural Address   \n",
       "22     Rutherford B. Hayes         Inaugural Address   \n",
       "23       James A. Garfield         Inaugural Address   \n",
       "24        Grover Cleveland   First Inaugural Address   \n",
       "25       Benjamin Harrison         Inaugural Address   \n",
       "26        Grover Cleveland  Second Inaugural Address   \n",
       "27        William McKinley   First Inaugural Address   \n",
       "28        William McKinley  Second Inaugural Address   \n",
       "29      Theodore Roosevelt         Inaugural Address   \n",
       "30     William Howard Taft         Inaugural Address   \n",
       "31          Woodrow Wilson   First Inaugural Address   \n",
       "32          Woodrow Wilson  Second Inaugural Address   \n",
       "33       Warren G. Harding         Inaugural Address   \n",
       "34         Calvin Coolidge         Inaugural Address   \n",
       "35          Herbert Hoover         Inaugural Address   \n",
       "36   Franklin D. Roosevelt   First Inaugural Address   \n",
       "37   Franklin D. Roosevelt  Second Inaugural Address   \n",
       "38   Franklin D. Roosevelt   Third Inaugural Address   \n",
       "39   Franklin D. Roosevelt  Fourth Inaugural Address   \n",
       "40         Harry S. Truman         Inaugural Address   \n",
       "41    Dwight D. Eisenhower   First Inaugural Address   \n",
       "42    Dwight D. Eisenhower  Second Inaugural Address   \n",
       "43         John F. Kennedy         Inaugural Address   \n",
       "44   Lyndon Baines Johnson         Inaugural Address   \n",
       "45   Richard Milhous Nixon   First Inaugural Address   \n",
       "46   Richard Milhous Nixon  Second Inaugural Address   \n",
       "47            Jimmy Carter         Inaugural Address   \n",
       "48           Ronald Reagan   First Inaugural Address   \n",
       "49           Ronald Reagan  Second Inaugural Address   \n",
       "50             George Bush         Inaugural Address   \n",
       "51            Bill Clinton   First Inaugural Address   \n",
       "52            Bill Clinton  Second Inaugural Address   \n",
       "53          George W. Bush   First Inaugural Address   \n",
       "54          George W. Bush  Second Inaugural Address   \n",
       "55            Barack Obama   First Inaugural Address   \n",
       "56            Barack Obama  Second Inaugural Address   \n",
       "57         Donald J. Trump         Inaugural Address   \n",
       "\n",
       "                           Date  \\\n",
       "0      Thursday, April 30, 1789   \n",
       "1         Monday, March 4, 1793   \n",
       "2       Saturday, March 4, 1797   \n",
       "3      Wednesday, March 4, 1801   \n",
       "4         Monday, March 4, 1805   \n",
       "5       Saturday, March 4, 1809   \n",
       "6       Thursday, March 4, 1813   \n",
       "7        Tuesday, March 4, 1817   \n",
       "8         Monday, March 5, 1821   \n",
       "9         Friday, March 4, 1825   \n",
       "10     Wednesday, March 4, 1829   \n",
       "11        Monday, March 4, 1833   \n",
       "12        Monday, March 4, 1837   \n",
       "13      Thursday, March 4, 1841   \n",
       "14       Tuesday, March 4, 1845   \n",
       "15        Monday, March 5, 1849   \n",
       "16        Friday, March 4, 1853   \n",
       "17     Wednesday, March 4, 1857   \n",
       "18        Monday, March 4, 1861   \n",
       "19      Saturday, March 4, 1865   \n",
       "20      Thursday, March 4, 1869   \n",
       "21       Tuesday, March 4, 1873   \n",
       "22        Monday, March 5, 1877   \n",
       "23        Friday, March 4, 1881   \n",
       "24     Wednesday, March 4, 1885   \n",
       "25        Monday, March 4, 1889   \n",
       "26      Saturday, March 4, 1893   \n",
       "27      Thursday, March 4, 1897   \n",
       "28        Monday, March 4, 1901   \n",
       "29      Saturday, March 4, 1905   \n",
       "30      Thursday, March 4, 1909   \n",
       "31       Tuesday, March 4, 1913   \n",
       "32        Monday, March 5, 1917   \n",
       "33        Friday, March 4, 1921   \n",
       "34     Wednesday, March 4, 1925   \n",
       "35        Monday, March 4, 1929   \n",
       "36      Saturday, March 4, 1933   \n",
       "37  Wednesday, January 20, 1937   \n",
       "38     Monday, January 20, 1941   \n",
       "39   Saturday, January 20, 1945   \n",
       "40   Thursday, January 20, 1949   \n",
       "41    Tuesday, January 20, 1953   \n",
       "42     Monday, January 21, 1957   \n",
       "43     Friday, January 20, 1961   \n",
       "44  Wednesday, January 20, 1965   \n",
       "45     Monday, January 20, 1969   \n",
       "46   Saturday, January 20, 1973   \n",
       "47   Thursday, January 20, 1977   \n",
       "48    Tuesday, January 20, 1981   \n",
       "49     Monday, January 21, 1985   \n",
       "50     Friday, January 20, 1989   \n",
       "51  Wednesday, January 21, 1993   \n",
       "52                    20-Jan-97   \n",
       "53   Saturday, January 20, 2001   \n",
       "54   Thursday, January 20, 2005   \n",
       "55    Tuesday, January 20, 2009   \n",
       "56     Monday, January 21, 2013   \n",
       "57     Friday, January 20, 2017   \n",
       "\n",
       "                                                 text  \n",
       "0   Fellow-Citizens of the Senate and of the House...  \n",
       "1   Fellow Citizens:  I AM again called upon by th...  \n",
       "2   WHEN it was first perceived, in early times, t...  \n",
       "3   Friends and Fellow-Citizens:  CALLED upon to u...  \n",
       "4   PROCEEDING, fellow-citizens, to that qualifica...  \n",
       "5   UNWILLING to depart from examples of the most ...  \n",
       "6   ABOUT to add the solemnity of an oath to the o...  \n",
       "7   I SHOULD be destitute of feeling if I was not ...  \n",
       "8   Fellow-Citizens:  I SHALL not attempt to descr...  \n",
       "9   IN compliance with an usage coeval with the ex...  \n",
       "10  Fellow-Citizens:  ABOUT to undertake the arduo...  \n",
       "11  Fellow-Citizens:  THE will of the American peo...  \n",
       "12  Fellow-Citizens: The practice of all my predec...  \n",
       "13  CALLED from a retirement which I had supposed ...  \n",
       "14  Fellow-Citizens:  WITHOUT solicitation on my p...  \n",
       "15  ELECTED by the American people to the highest ...  \n",
       "16  My Countrymen:  IT a relief to feel that no he...  \n",
       "17  Fellow-Citizens:  I APPEAR before you this day...  \n",
       "18  Fellow-Citizens of the United States:  IN comp...  \n",
       "19  Fellow-Countrymen:    AT this second appearing...  \n",
       "20  Citizens of the United States:  YOUR suffrages...  \n",
       "21  Fellow-Citizens:  UNDER Providence I have been...  \n",
       "22  Fellow-Citizens:  WE have assembled to repeat ...  \n",
       "23  Fellow-Citizens:  WE stand to-day upon an emin...  \n",
       "24  Fellow-Citizens:  IN the presence of this vast...  \n",
       "25  Fellow-Citizens:  THERE is no constitutional o...  \n",
       "26  My Fellow-Citizens:  IN obedience of the manda...  \n",
       "27  Fellow-Citizens:  IN obedience to the will of ...  \n",
       "28  My Fellow-Citizens:  WHEN we assembled here on...  \n",
       "29  MY fellow-citizens, no people on earth have mo...  \n",
       "30  My Fellow-Citizens:  ANYONE who has taken the ...  \n",
       "31  THERE has been a change of government. It bega...  \n",
       "32  My Fellow Citizens:  THE four years which have...  \n",
       "33  My Countrymen:  WHEN one surveys the world abo...  \n",
       "34  My Countrymen:  NO one can contemplate current...  \n",
       "35  My Countrymen:  THIS occasion is not alone the...  \n",
       "36  I AM certain that my fellow Americans expect t...  \n",
       "37  WHEN four years ago we met to inaugurate a Pre...  \n",
       "38  ON each national day of inauguration since    ...  \n",
       "39  MR. Chief Justice, Mr. Vice President, my frie...  \n",
       "40  Mr. Vice President, Mr. Chief Justice, and fel...  \n",
       "41  MY friends, before I begin the expression of t...  \n",
       "42  THE PRICE OF PEACE Mr. Chairman, Mr. Vice Pres...  \n",
       "43  Vice President Johnson, Mr. Speaker, Mr. Chief...  \n",
       "44  My fellow countrymen, on this occasion, the oa...  \n",
       "45  Senator Dirksen, Mr. Chief Justice, Mr. Vice P...  \n",
       "46  Mr. Vice President, Mr. Speaker, Mr. Chief Jus...  \n",
       "47  FOR myself and for our Nation, I want to thank...  \n",
       "48  Senator Hatfield, Mr. Chief Justice, Mr. Presi...  \n",
       "49  Senator Mathias, Chief Justice Burger, Vice Pr...  \n",
       "50  Mr. Chief Justice, Mr. President, Vice Preside...  \n",
       "51  My fellow citizens:Today we celebrate the myst...  \n",
       "52  My fellow citizens:At this last presidential i...  \n",
       "53  President Clinton, distinguished guests and my...  \n",
       "54  Vice President Cheney, Mr. Chief Justice, Pres...  \n",
       "55  My fellow citizens:    I stand here today humb...  \n",
       "56  Vice President Biden, Mr. Chief Justice, Membe...  \n",
       "57  Chief Justice Roberts, President Carter, Presi...  "
      ]
     },
     "execution_count": 41,
     "metadata": {},
     "output_type": "execute_result"
    }
   ],
   "source": [
    "speech_df = pd.read_csv('inaugural_speeches.csv')\n",
    "speech_df\n"
   ]
  },
  {
   "cell_type": "code",
   "execution_count": 42,
   "id": "666462bd",
   "metadata": {},
   "outputs": [
    {
     "name": "stdout",
     "output_type": "stream",
     "text": [
      "0    Fellow-Citizens of the Senate and of the House...\n",
      "1    Fellow Citizens:  I AM again called upon by th...\n",
      "2    WHEN it was first perceived, in early times, t...\n",
      "3    Friends and Fellow-Citizens:  CALLED upon to u...\n",
      "4    PROCEEDING, fellow-citizens, to that qualifica...\n",
      "Name: text, dtype: object\n"
     ]
    }
   ],
   "source": [
    "# Print the first 5 rows of the text column\n",
    "print(speech_df['text'].head())\n"
   ]
  },
  {
   "cell_type": "code",
   "execution_count": 43,
   "id": "35c43c8c",
   "metadata": {},
   "outputs": [
    {
     "name": "stdout",
     "output_type": "stream",
     "text": [
      "0    fellow citizens of the senate and of the house...\n",
      "1    fellow citizens   i am again called upon by th...\n",
      "2    when it was first perceived  in early times  t...\n",
      "3    friends and fellow citizens   called upon to u...\n",
      "4    proceeding  fellow citizens  to that qualifica...\n",
      "Name: text_clean, dtype: object\n"
     ]
    },
    {
     "name": "stderr",
     "output_type": "stream",
     "text": [
      "/var/folders/km/zm6_mphn3wzcqqxs3jyl5rs40000gn/T/ipykernel_97986/656717788.py:2: FutureWarning: The default value of regex will change from True to False in a future version.\n",
      "  speech_df['text_clean'] = speech_df['text'].str.replace('[^a-zA-Z]', ' ')\n"
     ]
    }
   ],
   "source": [
    "# Replace all non letter characters with a whitespace\n",
    "speech_df['text_clean'] = speech_df['text'].str.replace('[^a-zA-Z]', ' ')\n",
    "\n",
    "# Change to lower case\n",
    "speech_df['text_clean'] = speech_df['text_clean'].str.lower()\n",
    "\n",
    "# Print the first 5 rows of the text_clean column\n",
    "print(speech_df['text_clean'].head())\n"
   ]
  },
  {
   "cell_type": "code",
   "execution_count": 44,
   "id": "6506e542",
   "metadata": {},
   "outputs": [
    {
     "name": "stdout",
     "output_type": "stream",
     "text": [
      "                                           text_clean  char_cnt  word_cnt  \\\n",
      "0   fellow citizens of the senate and of the house...      8616      1432   \n",
      "1   fellow citizens   i am again called upon by th...       787       135   \n",
      "2   when it was first perceived  in early times  t...     13871      2323   \n",
      "3   friends and fellow citizens   called upon to u...     10144      1736   \n",
      "4   proceeding  fellow citizens  to that qualifica...     12902      2169   \n",
      "5   unwilling to depart from examples of the most ...      7003      1179   \n",
      "6   about to add the solemnity of an oath to the o...      7148      1211   \n",
      "7   i should be destitute of feeling if i was not ...     19894      3382   \n",
      "8   fellow citizens   i shall not attempt to descr...     26322      4466   \n",
      "9   in compliance with an usage coeval with the ex...     17753      2922   \n",
      "10  fellow citizens   about to undertake the arduo...      6818      1130   \n",
      "11  fellow citizens   the will of the american peo...      7061      1179   \n",
      "12  fellow citizens  the practice of all my predec...     23527      3912   \n",
      "13  called from a retirement which i had supposed ...     32706      5585   \n",
      "14  fellow citizens   without solicitation on my p...     28739      4821   \n",
      "15  elected by the american people to the highest ...      6599      1092   \n",
      "16  my countrymen   it a relief to feel that no he...     20089      3348   \n",
      "17  fellow citizens   i appear before you this day...     16820      2839   \n",
      "18  fellow citizens of the united states   in comp...     21032      3642   \n",
      "19  fellow countrymen     at this second appearing...      3934       706   \n",
      "20  citizens of the united states   your suffrages...      6521      1138   \n",
      "21  fellow citizens   under providence i have been...      7736      1342   \n",
      "22  fellow citizens   we have assembled to repeat ...     14969      2498   \n",
      "23  fellow citizens   we stand to day upon an emin...     17774      2990   \n",
      "24  fellow citizens   in the presence of this vast...     10155      1695   \n",
      "25  fellow citizens   there is no constitutional o...     26175      4399   \n",
      "26  my fellow citizens   in obedience of the manda...     12340      2028   \n",
      "27  fellow citizens   in obedience to the will of ...     23691      3980   \n",
      "28  my fellow citizens   when we assembled here on...     13426      2216   \n",
      "29  my fellow citizens  no people on earth have mo...      5565       991   \n",
      "30  my fellow citizens   anyone who has taken the ...     32160      5439   \n",
      "31  there has been a change of government  it bega...      9554      1712   \n",
      "32  my fellow citizens   the four years which have...      8402      1535   \n",
      "33  my countrymen   when one surveys the world abo...     20294      3348   \n",
      "34  my countrymen   no one can contemplate current...     23937      4055   \n",
      "35  my countrymen   this occasion is not alone the...     22961      3771   \n",
      "36  i am certain that my fellow americans expect t...     10910      1888   \n",
      "37  when four years ago we met to inaugurate a pre...     10629      1831   \n",
      "38  on each national day of inauguration since    ...      7674      1371   \n",
      "39  mr  chief justice  mr  vice president  my frie...      3086       573   \n",
      "40  mr  vice president  mr  chief justice  and fel...     13707      2292   \n",
      "41  my friends  before i begin the expression of t...     14003      2475   \n",
      "42  the price of peace mr  chairman  mr  vice pres...      9277      1688   \n",
      "43  vice president johnson  mr  speaker  mr  chief...      7706      1390   \n",
      "44  my fellow countrymen  on this occasion  the oa...      8242      1502   \n",
      "45  senator dirksen  mr  chief justice  mr  vice p...     11701      2152   \n",
      "46  mr  vice president  mr  speaker  mr  chief jus...     10048      1835   \n",
      "47  for myself and for our nation  i want to thank...      6934      1238   \n",
      "48  senator hatfield  mr  chief justice  mr  presi...     13787      2457   \n",
      "49  senator mathias  chief justice burger  vice pr...     14601      2586   \n",
      "50  mr  chief justice  mr  president  vice preside...     12536      2342   \n",
      "51  my fellow citizens today we celebrate the myst...      9119      1608   \n",
      "52  my fellow citizens at this last presidential i...     12374      2201   \n",
      "53  president clinton  distinguished guests and my...      9084      1606   \n",
      "54  vice president cheney  mr  chief justice  pres...     12199      2122   \n",
      "55  my fellow citizens     i stand here today humb...     13637      2452   \n",
      "56  vice president biden  mr  chief justice  membe...     12174      2151   \n",
      "57  chief justice roberts  president carter  presi...      8555      1488   \n",
      "\n",
      "    avg_word_length  \n",
      "0          6.016760  \n",
      "1          5.829630  \n",
      "2          5.971158  \n",
      "3          5.843318  \n",
      "4          5.948363  \n",
      "5          5.939779  \n",
      "6          5.902560  \n",
      "7          5.882318  \n",
      "8          5.893865  \n",
      "9          6.075633  \n",
      "10         6.033628  \n",
      "11         5.988974  \n",
      "12         6.014059  \n",
      "13         5.856043  \n",
      "14         5.961211  \n",
      "15         6.043040  \n",
      "16         6.000299  \n",
      "17         5.924621  \n",
      "18         5.774849  \n",
      "19         5.572238  \n",
      "20         5.730228  \n",
      "21         5.764531  \n",
      "22         5.992394  \n",
      "23         5.944482  \n",
      "24         5.991150  \n",
      "25         5.950216  \n",
      "26         6.084813  \n",
      "27         5.952513  \n",
      "28         6.058664  \n",
      "29         5.615540  \n",
      "30         5.912852  \n",
      "31         5.580607  \n",
      "32         5.473616  \n",
      "33         6.061529  \n",
      "34         5.903083  \n",
      "35         6.088836  \n",
      "36         5.778602  \n",
      "37         5.805025  \n",
      "38         5.597374  \n",
      "39         5.385689  \n",
      "40         5.980366  \n",
      "41         5.657778  \n",
      "42         5.495853  \n",
      "43         5.543885  \n",
      "44         5.487350  \n",
      "45         5.437268  \n",
      "46         5.475749  \n",
      "47         5.600969  \n",
      "48         5.611315  \n",
      "49         5.646172  \n",
      "50         5.352690  \n",
      "51         5.671020  \n",
      "52         5.621990  \n",
      "53         5.656289  \n",
      "54         5.748822  \n",
      "55         5.561582  \n",
      "56         5.659693  \n",
      "57         5.749328  \n"
     ]
    }
   ],
   "source": [
    "# Find the length of each text\n",
    "speech_df['char_cnt'] = speech_df['text_clean'].str.len()\n",
    "\n",
    "# Count the number of words in each text\n",
    "speech_df['word_cnt'] = speech_df['text_clean'].str.split().str.len()\n",
    "\n",
    "# Find the average length of word\n",
    "speech_df['avg_word_length'] = speech_df['char_cnt'] / speech_df['word_cnt']\n",
    "\n",
    "# Print the first 5 rows of these columns\n",
    "print(speech_df[['text_clean', 'char_cnt', 'word_cnt', 'avg_word_length']])\n"
   ]
  },
  {
   "cell_type": "code",
   "execution_count": 45,
   "id": "daac11d7",
   "metadata": {},
   "outputs": [
    {
     "name": "stdout",
     "output_type": "stream",
     "text": [
      "(58, 818)\n"
     ]
    }
   ],
   "source": [
    "# Import CountVectorizer\n",
    "from sklearn.feature_extraction.text import CountVectorizer\n",
    "\n",
    "# Specify arguements to limit the number of features generated\n",
    "cv = CountVectorizer(min_df=0.2, max_df=0.8)\n",
    "\n",
    "# Fit, transform, and convert into array\n",
    "cv_transformed = cv.fit_transform(speech_df['text_clean'])\n",
    "cv_array = cv_transformed.toarray()\n",
    "\n",
    "# Print the array shape\n",
    "print(cv_array.shape)\n"
   ]
  }
 ],
 "metadata": {
  "kernelspec": {
   "display_name": "Python 3 (ipykernel)",
   "language": "python",
   "name": "python3"
  },
  "language_info": {
   "codemirror_mode": {
    "name": "ipython",
    "version": 3
   },
   "file_extension": ".py",
   "mimetype": "text/x-python",
   "name": "python",
   "nbconvert_exporter": "python",
   "pygments_lexer": "ipython3",
   "version": "3.10.9"
  }
 },
 "nbformat": 4,
 "nbformat_minor": 5
}
